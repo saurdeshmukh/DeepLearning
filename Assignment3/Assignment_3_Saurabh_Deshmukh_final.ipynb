{
 "cells": [
  {
   "cell_type": "code",
   "execution_count": 2,
   "metadata": {
    "collapsed": true
   },
   "outputs": [],
   "source": [
    "import pandas as pd\n",
    "import numpy as np\n",
    "import math\n",
    "import matplotlib.pyplot as plt\n",
    "np.random.seed(1)\n",
    "dataTrain=pd.read_csv('ex3_train.csv')\n",
    "dataTest=pd.read_csv('ex3_test.csv')"
   ]
  },
  {
   "cell_type": "code",
   "execution_count": 3,
   "metadata": {
    "collapsed": true
   },
   "outputs": [],
   "source": [
    "def one_hot_Encoding(Y,classes):\n",
    "    Yout=np.zeros((Y.shape[0],len(classes)))\n",
    "    for i in range(0,len(Y)-1):\n",
    "        indx=classes.index(Y[i])\n",
    "        Yout[i,indx]=1\n",
    "    return Yout"
   ]
  },
  {
   "cell_type": "code",
   "execution_count": 4,
   "metadata": {
    "collapsed": true
   },
   "outputs": [],
   "source": [
    "def softMax(Yout):\n",
    "    sumAll=np.sum(Yout)\n",
    "    return np.divide(Yout,sumAll)"
   ]
  },
  {
   "cell_type": "code",
   "execution_count": 5,
   "metadata": {
    "collapsed": true
   },
   "outputs": [],
   "source": [
    "def sigmoid(z):\n",
    "    s = 1 / (1 + np.exp(-z))\n",
    "    return s"
   ]
  },
  {
   "cell_type": "code",
   "execution_count": 6,
   "metadata": {
    "collapsed": true
   },
   "outputs": [],
   "source": [
    "def layer_sizes(X, Y):\n",
    "    n_x = X.shape[0] \n",
    "    n_h = 25\n",
    "    n_y = Y.shape[0] \n",
    "    return (n_x, n_h, n_y)"
   ]
  },
  {
   "cell_type": "code",
   "execution_count": 7,
   "metadata": {
    "collapsed": true
   },
   "outputs": [],
   "source": [
    "def initialize_parameters(n_x, n_h, n_y):\n",
    "    np.random.seed(234) \n",
    "    W1 = np.random.randn(n_h, n_x) * 0.01\n",
    "    b1 = np.zeros((n_h, 1))\n",
    "    W2 = np.random.randn(n_y, n_h) * 0.01\n",
    "    b2 = np.zeros((n_y, 1))\n",
    "    \n",
    "    parameters = {\"W1\": W1,\n",
    "                  \"b1\": b1,\n",
    "                  \"W2\": W2,\n",
    "                  \"b2\": b2}\n",
    "    \n",
    "    return parameters"
   ]
  },
  {
   "cell_type": "code",
   "execution_count": 8,
   "metadata": {
    "collapsed": true
   },
   "outputs": [],
   "source": [
    "def forward_propagation(X, parameters):\n",
    "\n",
    "    W1 = parameters[\"W1\"]\n",
    "    b1 = parameters[\"b1\"]\n",
    "    W2 = parameters[\"W2\"]\n",
    "    b2 = parameters[\"b2\"]\n",
    "    \n",
    "    Z1 = np.dot(W1,X) + b1\n",
    "    A1 = sigmoid(Z1)\n",
    "    Z2 = np.dot(W2,A1) + b2\n",
    "    A2 = sigmoid(Z2)\n",
    "    \n",
    "    cache = {\"Z1\": Z1,\n",
    "             \"A1\": A1,\n",
    "             \"Z2\": Z2,\n",
    "             \"A2\": A2}\n",
    "    \n",
    "    return A2, cache"
   ]
  },
  {
   "cell_type": "code",
   "execution_count": 9,
   "metadata": {
    "collapsed": true
   },
   "outputs": [],
   "source": [
    "def compute_cost(A2, Y, parameters):\n",
    "    \n",
    "    m = Y.shape[1] \n",
    "    \n",
    "    W1 = parameters[\"W1\"]\n",
    "    W2 = parameters[\"W2\"]\n",
    "\n",
    "    logprobs = None\n",
    "    cost = None\n",
    "    \n",
    "    logprobs = np.multiply(np.log(A2),Y) + np.multiply(np.log(1 - A2),1 - Y)\n",
    "    cost = -(1 / m) * np.sum(logprobs)\n",
    "    \n",
    "    cost = np.squeeze(cost)     \n",
    "    \n",
    "    return cost"
   ]
  },
  {
   "cell_type": "code",
   "execution_count": 21,
   "metadata": {
    "collapsed": true
   },
   "outputs": [],
   "source": [
    "def backward_propagation(parameters, cache, X, Y):\n",
    "    m = X.shape[1]\n",
    "\n",
    "    W1 = None\n",
    "    W2 = None\n",
    "    W1 = parameters[\"W1\"]\n",
    "    W2 = parameters[\"W2\"]\n",
    "\n",
    "    A1 = None\n",
    "    A2 = None\n",
    "    A1 = cache[\"A1\"]\n",
    "    A2 = cache[\"A2\"]\n",
    "\n",
    "    dZ2= None\n",
    "    dW2 = None\n",
    "    db2 = None\n",
    "    dZ1 = None\n",
    "    dW1 = None\n",
    "    db1 = None\n",
    "    \n",
    "    dZ2 = A2 - Y\n",
    "    dW2 = (1/m) * np.dot(dZ2,A1.T)\n",
    "    db2 = (1/m) * np.sum(dZ2, axis = 1, keepdims = True)\n",
    "    dZ1 = np.dot(W2.T,dZ2) * (A1 - np.power(A1, 2))\n",
    "    dW1 = (1/m) * np.dot(dZ1,X.T)\n",
    "    db1 = (1/m) * np.sum(dZ1, axis = 1, keepdims = True)\n",
    "    \n",
    "\n",
    "    \n",
    "    grads = {\"dW1\": dW1,\n",
    "             \"db1\": db1,\n",
    "             \"dW2\": dW2,\n",
    "             \"db2\": db2}\n",
    "    \n",
    "    return grads"
   ]
  },
  {
   "cell_type": "code",
   "execution_count": 22,
   "metadata": {
    "collapsed": true
   },
   "outputs": [],
   "source": [
    "def gradientDescendent(parameters, grads, learning_rate):\n",
    "    W1 = parameters[\"W1\"]\n",
    "    b1 = parameters[\"b1\"]\n",
    "    W2 = parameters[\"W2\"]\n",
    "    b2 = parameters[\"b2\"]\n",
    "    dW1 = grads[\"dW1\"]\n",
    "    db1 = grads[\"db1\"]\n",
    "    dW2 = grads[\"dW2\"]\n",
    "    db2 = grads['db2']\n",
    "    \n",
    "    W1 = W1 - learning_rate * dW1\n",
    "    b1 = b1 - learning_rate * db1\n",
    "    W2 = W2 - learning_rate * dW2\n",
    "    b2 = b2 - learning_rate * db2\n",
    "    \n",
    "    parameters = {\"W1\": W1,\n",
    "                  \"b1\": b1,\n",
    "                  \"W2\": W2,\n",
    "                  \"b2\": b2}\n",
    "    \n",
    "    return parameters"
   ]
  },
  {
   "cell_type": "code",
   "execution_count": 23,
   "metadata": {
    "collapsed": true
   },
   "outputs": [],
   "source": [
    "def model(X, Y, n_h, learning_rate,cost_matrix,num_iterations = 10000, print_cost=False):\n",
    "    np.random.seed(3)\n",
    "    n_x = layer_sizes(X, Y)[0]\n",
    "    n_y = layer_sizes(X, Y)[2]\n",
    "    \n",
    "    parameters = None\n",
    "    W1 = None\n",
    "    b1 = None\n",
    "    W2 = None\n",
    "    b2 = None\n",
    "    \n",
    "    parameters = initialize_parameters(n_x, n_h, n_y)\n",
    "    W1 = parameters[\"W1\"]\n",
    "    b1 = parameters[\"b1\"]\n",
    "    W2 = parameters[\"W2\"]\n",
    "    b2 = parameters[\"b2\"]\n",
    "    \n",
    "    for i in range(0, num_iterations):\n",
    "        A2, cache = forward_propagation(X, parameters)\n",
    "        cost = compute_cost(A2, Y, parameters)\n",
    "        cost_matrix.append(cost)\n",
    "        grads = backward_propagation(parameters, cache, X, Y)\n",
    "        parameters = gradientDescendent(parameters, grads,learning_rate)\n",
    "        if print_cost and i % 1000 == 0:\n",
    "            print (\"Cost after iteration %i: %f\" %(i, cost))\n",
    "\n",
    "    return parameters,cost_matrix"
   ]
  },
  {
   "cell_type": "code",
   "execution_count": 24,
   "metadata": {
    "collapsed": true
   },
   "outputs": [],
   "source": [
    "def predict(parameters,X):\n",
    "    A2, cache = forward_propagation(X, parameters)\n",
    "    predictedClass=[]\n",
    "    classes=np.array([0,1,2,3,4,5,6,7,8,9])\n",
    "    for i in range(0,X.shape[1]):\n",
    "        P=softMax(A2[:,i])\n",
    "        pMax=max(P) \n",
    "        index = np.where(np.in1d(P, pMax))[0]\n",
    "        pred=classes[index]\n",
    "        predictedClass.append(pred[0])\n",
    "    return predictedClass"
   ]
  },
  {
   "cell_type": "code",
   "execution_count": 25,
   "metadata": {
    "collapsed": true
   },
   "outputs": [],
   "source": [
    "def Accuracy(X,H,parameters):\n",
    "    Out=predict(parameters,X)\n",
    "    countTP=0\n",
    "    for i in range(len(Out)):\n",
    "        if Out[i]==H[i]:\n",
    "            countTP=countTP+1\n",
    "    return (countTP/len(Out))*100"
   ]
  },
  {
   "cell_type": "code",
   "execution_count": 26,
   "metadata": {
    "collapsed": true
   },
   "outputs": [],
   "source": [
    "H=np.array(dataTrain['y'])\n",
    "classes=[0,1,2,3,4,5,6,7,8,9]\n",
    "Y=one_hot_Encoding(H,classes)\n",
    "Input_train=np.array(dataTrain)\n",
    "X=Input_train[:,0:400]\n",
    "X=X.T\n",
    "Y=Y.T\n",
    "Input_test=np.array(dataTest)\n",
    "Htest=np.array(dataTest['y'])\n",
    "Xtest=Input_test[:,0:400]\n",
    "Xtest=Xtest.T"
   ]
  },
  {
   "cell_type": "code",
   "execution_count": 27,
   "metadata": {
    "collapsed": true
   },
   "outputs": [],
   "source": [
    "shape_X = X.shape\n",
    "shape_Y = Y.shape\n",
    "m = shape_X[1]"
   ]
  },
  {
   "cell_type": "code",
   "execution_count": 28,
   "metadata": {},
   "outputs": [
    {
     "name": "stdout",
     "output_type": "stream",
     "text": [
      "Cost after iteration 0: 6.903977\n",
      "Cost after iteration 1000: 3.251991\n",
      "Cost after iteration 2000: 3.245442\n",
      "Cost after iteration 3000: 3.219215\n",
      "Cost after iteration 4000: 3.110269\n",
      "Cost after iteration 5000: 2.828244\n",
      "Cost after iteration 6000: 2.471579\n",
      "Cost after iteration 7000: 2.178371\n",
      "Cost after iteration 8000: 1.957607\n",
      "Cost after iteration 9000: 1.780883\n"
     ]
    }
   ],
   "source": [
    "cost_matrix=[]\n",
    "parameters,cost_matrix=model(X, Y, 25, 0.01,cost_matrix,10000, True)"
   ]
  },
  {
   "cell_type": "code",
   "execution_count": 29,
   "metadata": {},
   "outputs": [
    {
     "data": {
      "image/png": "[encoded data removed]",
      "text/plain": [
       "<matplotlib.figure.Figure at 0x114584668>"
      ]
     },
     "metadata": {},
     "output_type": "display_data"
    },
    {
     "name": "stdout",
     "output_type": "stream",
     "text": [
      "Training Accuracy for 0.01 lr is : 78.94285714285715\n",
      "Testing Accuracy for 0.01 lr is : 77.13333333333333\n"
     ]
    }
   ],
   "source": [
    "plt.plot(cost_matrix)\n",
    "plt.title(\"Cost Function lr=0.01\")\n",
    "plt.show()\n",
    "TrainAcc=Accuracy(X,H,parameters)\n",
    "TestAcc=Accuracy(Xtest,Htest,parameters)\n",
    "print(\"Training Accuracy for 0.01 lr is :\",TrainAcc)\n",
    "print(\"Testing Accuracy for 0.01 lr is :\",TestAcc)"
   ]
  },
  {
   "cell_type": "code",
   "execution_count": 30,
   "metadata": {},
   "outputs": [
    {
     "name": "stdout",
     "output_type": "stream",
     "text": [
      "Cost after iteration 0: 6.903977\n",
      "Cost after iteration 1000: 1.626650\n",
      "Cost after iteration 2000: 0.901620\n",
      "Cost after iteration 3000: 0.670004\n",
      "Cost after iteration 4000: 0.554979\n",
      "Cost after iteration 5000: 0.482361\n",
      "Cost after iteration 6000: 0.429510\n",
      "Cost after iteration 7000: 0.388194\n",
      "Cost after iteration 8000: 0.354418\n",
      "Cost after iteration 9000: 0.325985\n"
     ]
    },
    {
     "data": {
      "image/png": "[encoded data removed]",
      "text/plain": [
       "<matplotlib.figure.Figure at 0x11457c5c0>"
      ]
     },
     "metadata": {},
     "output_type": "display_data"
    },
    {
     "name": "stdout",
     "output_type": "stream",
     "text": [
      "Training Accuracy for 0.1 lr is : 96.45714285714286\n",
      "Testing Accuracy for 0.1 lr is : 93.0\n"
     ]
    }
   ],
   "source": [
    "cost_matrix1=[]\n",
    "parameters,cost_matrix1=model(X, Y, 25, 0.1,cost_matrix1,10000, True)\n",
    "plt.plot(cost_matrix1)\n",
    "plt.title(\"Cost Function lr=0.1\")\n",
    "plt.show()\n",
    "TrainAcc=Accuracy(X,H,parameters)\n",
    "TestAcc=Accuracy(Xtest,Htest,parameters)\n",
    "print(\"Training Accuracy for 0.1 lr is :\",TrainAcc)\n",
    "print(\"Testing Accuracy for 0.1 lr is :\",TestAcc)"
   ]
  },
  {
   "cell_type": "code",
   "execution_count": null,
   "metadata": {},
   "outputs": [
    {
     "name": "stdout",
     "output_type": "stream",
     "text": [
      "Cost after iteration 0: 6.903977\n",
      "Cost after iteration 1000: 0.305281\n",
      "Cost after iteration 2000: 0.169560\n",
      "Cost after iteration 3000: 0.107784\n",
      "Cost after iteration 4000: 0.075615\n",
      "Cost after iteration 5000: 0.056919\n"
     ]
    }
   ],
   "source": [
    "cost_matrix2=[]\n",
    "parameters,cost_matrix2=model(X, Y, 25, 1,cost_matrix2,10000, True)\n",
    "plt.plot(cost_matrix2)\n",
    "plt.title(\"Cost Function lr=1(OVERFITTED)\")\n",
    "plt.show()\n",
    "TrainAcc=Accuracy(X,H,parameters)\n",
    "TestAcc=Accuracy(Xtest,Htest,parameters)\n",
    "print(\"Training Accuracy for 1 lr is :\",TrainAcc)\n",
    "print(\"Testing Accuracy for 1 lr is :\",TestAcc)"
   ]
  },
  {
   "cell_type": "code",
   "execution_count": null,
   "metadata": {
    "collapsed": true
   },
   "outputs": [],
   "source": []
  }
 ],
 "metadata": {
  "kernelspec": {
   "display_name": "Python 3",
   "language": "python",
   "name": "python3"
  },
  "language_info": {
   "codemirror_mode": {
    "name": "ipython",
    "version": 3
   },
   "file_extension": ".py",
   "mimetype": "text/x-python",
   "name": "python",
   "nbconvert_exporter": "python",
   "pygments_lexer": "ipython3",
   "version": "3.6.3"
  }
 },
 "nbformat": 4,
 "nbformat_minor": 2
}
