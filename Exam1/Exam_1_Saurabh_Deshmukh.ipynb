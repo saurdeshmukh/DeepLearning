{
 "cells": [
  {
   "cell_type": "code",
   "execution_count": 83,
   "metadata": {
    "collapsed": true
   },
   "outputs": [],
   "source": [
    "import pandas as pd\n",
    "import numpy as np\n",
    "import math\n",
    "import matplotlib.pyplot as plt\n",
    "np.random.seed(1)\n",
    "dataTrain=pd.read_csv('exam1_train.csv')\n",
    "dataTest=pd.read_csv('exam1_test.csv')"
   ]
  },
  {
   "cell_type": "code",
   "execution_count": 84,
   "metadata": {
    "collapsed": true
   },
   "outputs": [],
   "source": [
    "def initialize_parameters(layers):\n",
    "    parameters = {}\n",
    "    Len = len(layers)\n",
    "    for i in range(1, Len):\n",
    "        parameters['W' + str(i)] = np.random.randn(layers[i], layers[i-1]) * 0.01\n",
    "        parameters['b' + str(i)] = np.zeros((layers[i], 1))       \n",
    "    return parameters"
   ]
  },
  {
   "cell_type": "code",
   "execution_count": 85,
   "metadata": {
    "collapsed": true
   },
   "outputs": [],
   "source": [
    "def sigmoid(Z):\n",
    "    A = 1/(1+np.exp(-Z))\n",
    "    return A"
   ]
  },
  {
   "cell_type": "code",
   "execution_count": 86,
   "metadata": {
    "collapsed": true
   },
   "outputs": [],
   "source": [
    "def relu(Z):    \n",
    "    A = np.maximum(0,Z)\n",
    "    return A"
   ]
  },
  {
   "cell_type": "code",
   "execution_count": 87,
   "metadata": {
    "collapsed": true
   },
   "outputs": [],
   "source": [
    "def linear_forward_sigmoid(A, W, b):\n",
    "    Z = np.dot(W, A) + b\n",
    "    A1=sigmoid(Z)\n",
    "    cache = ((A, W, b), Z)\n",
    "    return A1, cache"
   ]
  },
  {
   "cell_type": "code",
   "execution_count": 88,
   "metadata": {
    "collapsed": true
   },
   "outputs": [],
   "source": [
    "def linear_forward_relu(A, W, b):\n",
    "    Z = np.dot(W, A) + b\n",
    "    A1=relu(Z)\n",
    "    cache = ((A, W, b), Z)\n",
    "    return A1, cache"
   ]
  },
  {
   "cell_type": "code",
   "execution_count": 89,
   "metadata": {
    "collapsed": true
   },
   "outputs": [],
   "source": [
    "def forward_propogation(X, parameters):\n",
    "    caches = []\n",
    "    A = X\n",
    "    Len = len(parameters) // 2                  \n",
    "    for i in range(1, Len):\n",
    "        A_prev = A \n",
    "        W = parameters[\"W\" + str(i)]\n",
    "        b = parameters[\"b\" + str(i)]\n",
    "        A, cache = linear_forward_relu(A_prev, W, b)\n",
    "        caches.append(cache)\n",
    "    W = parameters[\"W\" + str(Len)]\n",
    "    b = parameters[\"b\" + str(Len)]\n",
    "    AL, cache = linear_forward_sigmoid(A, W, b)\n",
    "    caches.append(cache)\n",
    "    return AL, caches"
   ]
  },
  {
   "cell_type": "code",
   "execution_count": 90,
   "metadata": {
    "collapsed": true
   },
   "outputs": [],
   "source": [
    "def cost_function(A, Y,parameters,lambd):\n",
    "    m = Y.shape[1]\n",
    "    cost = None\n",
    "    sumW=0\n",
    "    Len = len(parameters) // 2\n",
    "    for i in range(1,Len):\n",
    "        sumW=sumW+np.sum(np.square(parameters[\"W\" + str(i)]))\n",
    "     \n",
    "    cost = (-1/m)*np.sum(np.multiply(Y, np.log(A)) + np.multiply(1-Y, np.log(1 - A))) + (lambd/(2*m))*sumW\n",
    "    cost = np.squeeze(cost) \n",
    "    return cost"
   ]
  },
  {
   "cell_type": "code",
   "execution_count": 91,
   "metadata": {
    "collapsed": true
   },
   "outputs": [],
   "source": [
    "def linear_backward_sigmoid(dA, cache):\n",
    "    linear,Z = cache\n",
    "    \n",
    "    s = 1/(1+np.exp(-Z))\n",
    "    dZ = dA * s * (1-s)\n",
    "    \n",
    "    A_prev, W, b = linear\n",
    "    m = A_prev.shape[1]    \n",
    "    dW = (1/m) * np.dot(dZ, linear[0].T)\n",
    "    db = (1/m) * np.sum(dZ, axis = 1, keepdims = True)\n",
    "    dA_prev = np.dot(linear[1].T, dZ)\n",
    "    \n",
    "    return dA_prev, dW, db"
   ]
  },
  {
   "cell_type": "code",
   "execution_count": 92,
   "metadata": {
    "collapsed": true
   },
   "outputs": [],
   "source": [
    "def linear_backward_relu(dA, cache):\n",
    "    linear,Z=cache\n",
    "    \n",
    "    dZ = np.array(dA, copy=True) \n",
    "    dZ[Z <= 0] = 0\n",
    "    \n",
    "    A_prev, W, b = linear\n",
    "    m = A_prev.shape[1]    \n",
    "    dW = (1/m) * np.dot(dZ, linear[0].T)\n",
    "    db = (1/m) * np.sum(dZ, axis = 1, keepdims = True)\n",
    "    dA_prev = np.dot(linear[1].T, dZ)\n",
    "    \n",
    "    return dA_prev, dW, db"
   ]
  },
  {
   "cell_type": "code",
   "execution_count": 93,
   "metadata": {
    "collapsed": true
   },
   "outputs": [],
   "source": [
    "def backpropogation(AL, Y, caches):\n",
    "    grads = {}\n",
    "    L = len(caches)\n",
    "    m = AL.shape[1]\n",
    "    Y = Y.reshape(AL.shape)\n",
    "    dAL = - (np.divide(Y, AL) - np.divide(1 - Y, 1 - AL)) \n",
    "    current_cache = caches[L - 1]\n",
    "    grads[\"dA\" + str(L)], grads[\"dW\" + str(L)], grads[\"db\" + str(L)] = linear_backward_sigmoid(dAL, current_cache)\n",
    "    \n",
    "    for l in reversed(range(L-1)):\n",
    "        current_cache = caches[l]\n",
    "        dA_prev_temp, dW_temp, db_temp = linear_backward_relu(grads[\"dA\" + str(l + 2)], current_cache)\n",
    "        grads[\"dA\" + str(l + 1)] = dA_prev_temp\n",
    "        grads[\"dW\" + str(l + 1)] = dW_temp\n",
    "        grads[\"db\" + str(l + 1)] = db_temp\n",
    "    return grads"
   ]
  },
  {
   "cell_type": "code",
   "execution_count": 94,
   "metadata": {
    "collapsed": true
   },
   "outputs": [],
   "source": [
    "def gradientDescendent(parameters, grads, lr,lambd,m):\n",
    "    L = len(parameters) // 2 \n",
    "    for l in range(L):\n",
    "        parameters[\"W\" + str(l+1)] = parameters[\"W\" + str(l+1)] - lr * grads[\"dW\" + str(l+1)]-((lr*lambd)/m)*parameters[\"W\" + str(l+1)]\n",
    "        parameters[\"b\" + str(l+1)] = parameters[\"b\" + str(l+1)] - lr * grads[\"db\" + str(l+1)]\n",
    "\n",
    "    return parameters"
   ]
  },
  {
   "cell_type": "code",
   "execution_count": 95,
   "metadata": {
    "collapsed": true
   },
   "outputs": [],
   "source": [
    "def one_hot_Encoding(Y,classes):\n",
    "    Yout=np.zeros((Y.shape[0],len(classes)))\n",
    "    for i in range(0,len(Y)-1):\n",
    "        indx=classes.index(Y[i])\n",
    "        Yout[i,indx]=1\n",
    "    return Yout"
   ]
  },
  {
   "cell_type": "code",
   "execution_count": 96,
   "metadata": {
    "collapsed": true
   },
   "outputs": [],
   "source": [
    "def softMax(x):\n",
    "    return np.exp(x) / np.sum(np.exp(x), axis=0)"
   ]
  },
  {
   "cell_type": "code",
   "execution_count": 97,
   "metadata": {
    "collapsed": true
   },
   "outputs": [],
   "source": [
    "def model(X, Y, layers, lr, iteration, costMatrix,lambd):\n",
    "\n",
    "    parameters = initialize_parameters(layers)\n",
    "    for i in range(0, iteration):\n",
    "        AL, caches = forward_propogation(X, parameters)\n",
    "        cost = cost_function(AL, Y,parameters,lambd)\n",
    "        costMatrix.append(cost)\n",
    "        grads = backpropogation(AL, Y, caches)\n",
    "        parameters = gradientDescendent(parameters, grads, lr,lambd,AL.shape[1])\n",
    "\n",
    "        if i % 500 == 0:\n",
    "            print (\"Cost after iteration %i: %f\" %(i, cost))\n",
    "\n",
    "    return parameters,costMatrix"
   ]
  },
  {
   "cell_type": "code",
   "execution_count": 98,
   "metadata": {
    "collapsed": true
   },
   "outputs": [],
   "source": [
    "def predict(parameters,X):\n",
    "    A2, cache = forward_propogation(X, parameters)\n",
    "    predictedClass=[]\n",
    "    classes=np.array([0,1,2,3,4,5,6,7,8,9])\n",
    "    for i in range(0,X.shape[1]):\n",
    "        P=softMax(A2[:,i])\n",
    "        pMax=max(P) \n",
    "        index = np.where(np.in1d(P, pMax))[0]\n",
    "        pred=classes[index]\n",
    "        predictedClass.append(pred[0])\n",
    "    return predictedClass"
   ]
  },
  {
   "cell_type": "code",
   "execution_count": 99,
   "metadata": {
    "collapsed": true
   },
   "outputs": [],
   "source": [
    "def Accuracy(X,H,parameters):\n",
    "    Out=predict(parameters,X)\n",
    "    countTP=0\n",
    "    for i in range(len(Out)):\n",
    "        if Out[i]==H[i]:\n",
    "            countTP=countTP+1\n",
    "    return (countTP/len(Out))*100"
   ]
  },
  {
   "cell_type": "code",
   "execution_count": 100,
   "metadata": {
    "collapsed": true
   },
   "outputs": [],
   "source": [
    "H=np.array(dataTrain['y'])\n",
    "classes=[0,1,2,3,4,5,6,7,8,9]\n",
    "Y=one_hot_Encoding(H,classes)\n",
    "Input_train=np.array(dataTrain)\n",
    "X=Input_train[:,1:401]\n",
    "X=X.T\n",
    "Y=Y.T\n",
    "Input_test=np.array(dataTest)\n",
    "Htest=np.array(dataTest['y'])\n",
    "Xtest=Input_test[:,1:401]\n",
    "Xtest=Xtest.T"
   ]
  },
  {
   "cell_type": "code",
   "execution_count": 101,
   "metadata": {},
   "outputs": [
    {
     "name": "stdout",
     "output_type": "stream",
     "text": [
      "Cost after iteration 0: 6.943737\n",
      "Cost after iteration 500: 0.914926\n",
      "Cost after iteration 1000: 0.561868\n",
      "Cost after iteration 1500: 0.506058\n",
      "Cost after iteration 2000: 0.482518\n",
      "Cost after iteration 2500: 0.467880\n",
      "Cost after iteration 3000: 0.461429\n",
      "Cost after iteration 3500: 0.454773\n"
     ]
    }
   ],
   "source": [
    "costMatrix=[]\n",
    "layers=[400,100,25,10]\n",
    "parameters,costMatrix=model(X, Y, layers, 0.3, 4000, costMatrix,20)"
   ]
  },
  {
   "cell_type": "code",
   "execution_count": 103,
   "metadata": {},
   "outputs": [
    {
     "data": {
      "image/png": "[encoded data removed]",
      "text/plain": [
       "<matplotlib.figure.Figure at 0x115230e80>"
      ]
     },
     "metadata": {},
     "output_type": "display_data"
    },
    {
     "name": "stdout",
     "output_type": "stream",
     "text": [
      "Training Accuracy for 0.3 lr is : 98.91428571428571\n",
      "Testing Accuracy for 0.3 lr is : 94.0\n"
     ]
    }
   ],
   "source": [
    "plt.plot(costMatrix)\n",
    "plt.title(\"Cost Function lr=0.3\")\n",
    "plt.show()\n",
    "TrainAcc=Accuracy(X,H,parameters)\n",
    "TestAcc=Accuracy(Xtest,Htest,parameters)\n",
    "print(\"Training Accuracy for 0.3 lr is :\",TrainAcc)\n",
    "print(\"Testing Accuracy for 0.3 lr is :\",TestAcc)"
   ]
  },
  {
   "cell_type": "code",
   "execution_count": null,
   "metadata": {
    "collapsed": true
   },
   "outputs": [],
   "source": []
  },
  {
   "cell_type": "code",
   "execution_count": null,
   "metadata": {
    "collapsed": true
   },
   "outputs": [],
   "source": []
  }
 ],
 "metadata": {
  "kernelspec": {
   "display_name": "Python 3",
   "language": "python",
   "name": "python3"
  },
  "language_info": {
   "codemirror_mode": {
    "name": "ipython",
    "version": 3
   },
   "file_extension": ".py",
   "mimetype": "text/x-python",
   "name": "python",
   "nbconvert_exporter": "python",
   "pygments_lexer": "ipython3",
   "version": "3.6.3"
  }
 },
 "nbformat": 4,
 "nbformat_minor": 2
}
