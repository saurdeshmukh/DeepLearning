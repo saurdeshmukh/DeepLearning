{
 "cells": [
  {
   "cell_type": "code",
   "execution_count": 1,
   "metadata": {},
   "outputs": [
    {
     "name": "stderr",
     "output_type": "stream",
     "text": [
      "/Users/saurabhdeshmukh/anaconda3/lib/python3.6/site-packages/h5py/__init__.py:34: FutureWarning: Conversion of the second argument of issubdtype from `float` to `np.floating` is deprecated. In future, it will be treated as `np.float64 == np.dtype(float).type`.\n",
      "  from ._conv import register_converters as _register_converters\n"
     ]
    }
   ],
   "source": [
    "import math\n",
    "import numpy as np\n",
    "import matplotlib.pyplot as plt\n",
    "import tensorflow as tf\n",
    "from tensorflow.python.framework import ops\n",
    "import pandas as pd\n",
    "np.random.seed(1)"
   ]
  },
  {
   "cell_type": "code",
   "execution_count": 2,
   "metadata": {
    "collapsed": true
   },
   "outputs": [],
   "source": [
    "X_train=np.load(\"exam2_train_x.npy\")\n",
    "Y_train=np.load(\"exam2_train_y.npy\")\n",
    "X_test=np.load(\"exam2_test_x.npy\")\n",
    "Y_test=np.load(\"exam2_test_y.npy\")\n",
    "classes=[0,1,2,3,4,5]"
   ]
  },
  {
   "cell_type": "code",
   "execution_count": 3,
   "metadata": {
    "collapsed": true
   },
   "outputs": [],
   "source": [
    "X_train=(X_train/255)-0.5\n",
    "X_test=(X_test/255)-0.5"
   ]
  },
  {
   "cell_type": "code",
   "execution_count": 4,
   "metadata": {
    "collapsed": true
   },
   "outputs": [],
   "source": [
    "def one_hot_Encoding(Y,classes):\n",
    "    Yout=np.zeros((Y.shape[0],len(classes)))\n",
    "    for i in range(0,len(Y)-1):\n",
    "        indx=classes.index(Y[i])\n",
    "        Yout[i,indx]=1\n",
    "    return Yout"
   ]
  },
  {
   "cell_type": "code",
   "execution_count": 5,
   "metadata": {
    "collapsed": true
   },
   "outputs": [],
   "source": [
    "Y_train=one_hot_Encoding(Y_train,classes)\n",
    "Y_test=one_hot_Encoding(Y_test,classes)"
   ]
  },
  {
   "cell_type": "code",
   "execution_count": 6,
   "metadata": {
    "collapsed": true
   },
   "outputs": [],
   "source": [
    "def create_placeholders(H, W, C, y):\n",
    "    X = tf.placeholder(tf.float32, [None, H, W, C])\n",
    "    Y = tf.placeholder(tf.float32, [None, y])\n",
    "    return X, Y"
   ]
  },
  {
   "cell_type": "code",
   "execution_count": 7,
   "metadata": {
    "collapsed": true
   },
   "outputs": [],
   "source": [
    "def initialize_parameters():\n",
    "    tf.set_random_seed(1)                             \n",
    "    W1 = tf.get_variable(\"W1\", [4, 4, 3, 8], initializer=tf.contrib.layers.xavier_initializer(seed=0))\n",
    "    W2 = tf.get_variable(\"W2\", [2, 2, 8, 16], initializer=tf.contrib.layers.xavier_initializer(seed=0))\n",
    "    parameters = {\"W1\": W1,\n",
    "                  \"W2\": W2}\n",
    "    \n",
    "    return parameters"
   ]
  },
  {
   "cell_type": "code",
   "execution_count": 8,
   "metadata": {
    "collapsed": true
   },
   "outputs": [],
   "source": [
    "def forward_propagation(X, parameters,architecture):\n",
    "    W1 = parameters['W1']\n",
    "    W2 = parameters['W2']\n",
    "    H1=[\"0\",\"Input\",[X.get_shape()[1],X.get_shape()[1]],X.get_shape()[3],\" \",\" \",\" \",\" \"]\n",
    "    architecture[2]=H1\n",
    "    Z1 = tf.nn.dropout(tf.nn.conv2d(X, W1, strides=[1, 1, 1, 1], padding='SAME'),0.5)\n",
    "    A1 = tf.nn.leaky_relu(Z1)\n",
    "    H2=[\"1\",\"Convolution\",[A1.get_shape()[1],A1.get_shape()[1]],A1.get_shape()[3],\"4,4\",1,1,\"Leaky_ReLU(0.2),Dropout(0.5)\"]\n",
    "    architecture[3]=H2\n",
    "    P1 = tf.nn.max_pool(A1, ksize = [1, 8, 8, 1], strides = [1, 8, 8, 1], padding='SAME')\n",
    "    H3=[\"2\",\"Pooling\",[P1.get_shape()[1],P1.get_shape()[1]],P1.get_shape()[3],\"8,8\",8,1,\"Max\"]\n",
    "    architecture[4]=H3\n",
    "    Z2 = tf.nn.conv2d(P1, W2, strides=[1, 1, 1, 1], padding='SAME')\n",
    "    A2 = tf.nn.leaky_relu(Z2)\n",
    "    H4=[\"3\",\"Convolution\",[A2.get_shape()[1],A2.get_shape()[1]],A2.get_shape()[3],\"2,2\",1,1,\"Leaky_ReLU(0.2)\"]\n",
    "    architecture[5]=H4\n",
    "    P2 = tf.nn.max_pool(A2, ksize = [1, 4, 4, 1], strides = [1, 4, 4, 1], padding='SAME')\n",
    "    H5=[\"4\",\"Pooling\",[P2.get_shape()[1],P2.get_shape()[1]],P2.get_shape()[3],\"4,4\",4,1,\"Max\"]\n",
    "    architecture[6]=H5\n",
    "    P = tf.contrib.layers.flatten(P2)\n",
    "    H6=[\"5\",\"flatten\",P.get_shape()[1],\" \",\" \",\" \",\" \",\" \"]\n",
    "    architecture[7]=H6\n",
    "    Z3 = tf.contrib.layers.fully_connected(P, 32, activation_fn=tf.nn.relu)\n",
    "    H6=[\"6\",\"fully_connected\",[Z3.get_shape()[1]],\" \",\" \",\" \",\" \",\"Leaky_ReLU(0.2)\"]\n",
    "    architecture[8]=H6\n",
    "    Z4 = tf.contrib.layers.fully_connected(Z3, 6, activation_fn=None)\n",
    "    H7=[\"7\",\"fully_connected\",[Z4.get_shape()[1]],\" \",\" \",\" \",\" \",\" \"]\n",
    "    architecture[9]=H7\n",
    "    return Z4,architecture"
   ]
  },
  {
   "cell_type": "code",
   "execution_count": 9,
   "metadata": {
    "collapsed": true
   },
   "outputs": [],
   "source": [
    "def compute_cost(Z3, Y):\n",
    "    cost = tf.reduce_mean(tf.nn.softmax_cross_entropy_with_logits_v2(logits=Z3, labels=Y))\n",
    "    return cost"
   ]
  },
  {
   "cell_type": "code",
   "execution_count": 10,
   "metadata": {
    "collapsed": true
   },
   "outputs": [],
   "source": [
    "def model(X_train, Y_train, X_test, Y_test, learning_rate,num_epochs, batch_size,architecture):\n",
    "    ops.reset_default_graph()                         \n",
    "    tf.set_random_seed(1)                             \n",
    "    seed = 3                                          \n",
    "    (m, H, W, C) = X_train.shape             \n",
    "    y = Y_train.shape[1]                            \n",
    "    costs = []                                       \n",
    "    X, Y = create_placeholders(H, W, C, y)  \n",
    "    parameters = initialize_parameters() \n",
    "    Z3,architecture = forward_propagation(X, parameters,architecture)\n",
    "    cost = compute_cost(Z3, Y)\n",
    "    optimizer = tf.train.AdamOptimizer(learning_rate=learning_rate).minimize(cost)\n",
    "    init = tf.global_variables_initializer()\n",
    "    with tf.Session() as sess:\n",
    "        sess.run(init)\n",
    "        for epoch in range(num_epochs):\n",
    "            batch_cost = 0\n",
    "            num_batches=int(m/batch_size)\n",
    "            shuffle_indices = np.random.permutation(np.arange(len(Y_train)))\n",
    "            X_train = X_train[shuffle_indices]\n",
    "            Y_train = Y_train[shuffle_indices]\n",
    "\n",
    "            for i in range(0, len(Y_train) // batch_size):\n",
    "                start = i * batch_size\n",
    "                batch_x = X_train[start:start + batch_size]\n",
    "                batch_y = Y_train[start:start + batch_size]\n",
    "                _ , temp_cost = sess.run([optimizer, cost], feed_dict={X:batch_x, Y:batch_y})\n",
    "               \n",
    "                batch_cost += temp_cost / num_batches\n",
    "      \n",
    "            if epoch % 5 == 0:\n",
    "                print (\"Cost after epoch %i: %f\" % (epoch, batch_cost))\n",
    "            if epoch % 1 == 0:\n",
    "                costs.append(batch_cost)\n",
    "        \n",
    "        plt.plot(np.squeeze(costs))\n",
    "        plt.ylabel('cost')\n",
    "        plt.xlabel('iterations')\n",
    "        plt.title(\"Learning rate =\" + str(learning_rate))\n",
    "        plt.show()\n",
    "        predict_op = tf.argmax(Z3, 1)\n",
    "        correct_prediction = tf.equal(predict_op, tf.argmax(Y, 1))\n",
    "        accuracy = tf.reduce_mean(tf.cast(correct_prediction, \"float\"))\n",
    "        train_accuracy = accuracy.eval({X: X_train, Y: Y_train})\n",
    "        test_accuracy = accuracy.eval({X: X_test, Y: Y_test})\n",
    "        print(\"Train Accuracy:%.2f\" %(train_accuracy*100))\n",
    "        print(\"Test Accuracy:%.2f\" %(test_accuracy*100))\n",
    "        return architecture"
   ]
  },
  {
   "cell_type": "code",
   "execution_count": 11,
   "metadata": {},
   "outputs": [
    {
     "name": "stdout",
     "output_type": "stream",
     "text": [
      "Cost after epoch 0: 1.657366\n",
      "Cost after epoch 5: 0.605762\n",
      "Cost after epoch 10: 0.336424\n",
      "Cost after epoch 15: 0.204611\n",
      "Cost after epoch 20: 0.124855\n",
      "Cost after epoch 25: 0.255678\n",
      "Cost after epoch 30: 0.069283\n",
      "Cost after epoch 35: 0.064965\n",
      "Cost after epoch 40: 0.061844\n",
      "Cost after epoch 45: 0.133326\n",
      "Cost after epoch 50: 0.142444\n",
      "Cost after epoch 55: 0.033913\n"
     ]
    },
    {
     "data": {
      "image/png": "[encoded data removed]",
      "text/plain": [
       "<matplotlib.figure.Figure at 0x1c2af4fba8>"
      ]
     },
     "metadata": {},
     "output_type": "display_data"
    },
    {
     "name": "stdout",
     "output_type": "stream",
     "text": [
      "Train Accuracy:99.41\n",
      "Test Accuracy:93.33\n"
     ]
    }
   ],
   "source": [
    "architecture = {}\n",
    "header=[\"Layer\",\"Type\",\"Size\",\"Channels\",\"Kernel size\",\"Stride\",\"Padding\",\"Function\"]\n",
    "architecture[1]=header\n",
    "architecture=model(X_train, Y_train, X_test, Y_test,0.009,60,51,architecture)"
   ]
  },
  {
   "cell_type": "code",
   "execution_count": 12,
   "metadata": {},
   "outputs": [
    {
     "data": {
      "text/html": [
       "<div>\n",
       "<style>\n",
       "    .dataframe thead tr:only-child th {\n",
       "        text-align: right;\n",
       "    }\n",
       "\n",
       "    .dataframe thead th {\n",
       "        text-align: left;\n",
       "    }\n",
       "\n",
       "    .dataframe tbody tr th {\n",
       "        vertical-align: top;\n",
       "    }\n",
       "</style>\n",
       "<table border=\"1\" class=\"dataframe\">\n",
       "  <thead>\n",
       "    <tr style=\"text-align: right;\">\n",
       "      <th></th>\n",
       "      <th>Layer</th>\n",
       "      <th>Type</th>\n",
       "      <th>Size</th>\n",
       "      <th>Channels</th>\n",
       "      <th>Kernel size</th>\n",
       "      <th>Stride</th>\n",
       "      <th>Padding</th>\n",
       "      <th>Function</th>\n",
       "    </tr>\n",
       "  </thead>\n",
       "  <tbody>\n",
       "    <tr>\n",
       "      <th>0</th>\n",
       "      <td>0</td>\n",
       "      <td>Input</td>\n",
       "      <td>[64, 64]</td>\n",
       "      <td>3</td>\n",
       "      <td></td>\n",
       "      <td></td>\n",
       "      <td></td>\n",
       "      <td></td>\n",
       "    </tr>\n",
       "    <tr>\n",
       "      <th>1</th>\n",
       "      <td>1</td>\n",
       "      <td>Convolution</td>\n",
       "      <td>[64, 64]</td>\n",
       "      <td>8</td>\n",
       "      <td>4,4</td>\n",
       "      <td>1</td>\n",
       "      <td>1</td>\n",
       "      <td>Leaky_ReLU(0.2),Dropout(0.5)</td>\n",
       "    </tr>\n",
       "    <tr>\n",
       "      <th>2</th>\n",
       "      <td>2</td>\n",
       "      <td>Pooling</td>\n",
       "      <td>[8, 8]</td>\n",
       "      <td>8</td>\n",
       "      <td>8,8</td>\n",
       "      <td>8</td>\n",
       "      <td>1</td>\n",
       "      <td>Max</td>\n",
       "    </tr>\n",
       "    <tr>\n",
       "      <th>3</th>\n",
       "      <td>3</td>\n",
       "      <td>Convolution</td>\n",
       "      <td>[8, 8]</td>\n",
       "      <td>16</td>\n",
       "      <td>2,2</td>\n",
       "      <td>1</td>\n",
       "      <td>1</td>\n",
       "      <td>Leaky_ReLU(0.2)</td>\n",
       "    </tr>\n",
       "    <tr>\n",
       "      <th>4</th>\n",
       "      <td>4</td>\n",
       "      <td>Pooling</td>\n",
       "      <td>[2, 2]</td>\n",
       "      <td>16</td>\n",
       "      <td>4,4</td>\n",
       "      <td>4</td>\n",
       "      <td>1</td>\n",
       "      <td>Max</td>\n",
       "    </tr>\n",
       "    <tr>\n",
       "      <th>5</th>\n",
       "      <td>5</td>\n",
       "      <td>flatten</td>\n",
       "      <td>64</td>\n",
       "      <td></td>\n",
       "      <td></td>\n",
       "      <td></td>\n",
       "      <td></td>\n",
       "      <td></td>\n",
       "    </tr>\n",
       "    <tr>\n",
       "      <th>6</th>\n",
       "      <td>6</td>\n",
       "      <td>fully_connected</td>\n",
       "      <td>[32]</td>\n",
       "      <td></td>\n",
       "      <td></td>\n",
       "      <td></td>\n",
       "      <td></td>\n",
       "      <td>Leaky_ReLU(0.2)</td>\n",
       "    </tr>\n",
       "    <tr>\n",
       "      <th>7</th>\n",
       "      <td>7</td>\n",
       "      <td>fully_connected</td>\n",
       "      <td>[6]</td>\n",
       "      <td></td>\n",
       "      <td></td>\n",
       "      <td></td>\n",
       "      <td></td>\n",
       "      <td></td>\n",
       "    </tr>\n",
       "  </tbody>\n",
       "</table>\n",
       "</div>"
      ],
      "text/plain": [
       "  Layer             Type      Size Channels Kernel size Stride Padding  \\\n",
       "0     0            Input  [64, 64]        3                              \n",
       "1     1      Convolution  [64, 64]        8         4,4      1       1   \n",
       "2     2          Pooling    [8, 8]        8         8,8      8       1   \n",
       "3     3      Convolution    [8, 8]       16         2,2      1       1   \n",
       "4     4          Pooling    [2, 2]       16         4,4      4       1   \n",
       "5     5          flatten        64                                       \n",
       "6     6  fully_connected      [32]                                       \n",
       "7     7  fully_connected       [6]                                       \n",
       "\n",
       "                       Function  \n",
       "0                                \n",
       "1  Leaky_ReLU(0.2),Dropout(0.5)  \n",
       "2                           Max  \n",
       "3               Leaky_ReLU(0.2)  \n",
       "4                           Max  \n",
       "5                                \n",
       "6               Leaky_ReLU(0.2)  \n",
       "7                                "
      ]
     },
     "execution_count": 12,
     "metadata": {},
     "output_type": "execute_result"
    }
   ],
   "source": [
    "pd.DataFrame([architecture[2],architecture[3],architecture[4],architecture[5],architecture[6],architecture[7],architecture[8],architecture[9]], columns=architecture[1])"
   ]
  },
  {
   "cell_type": "code",
   "execution_count": 13,
   "metadata": {},
   "outputs": [
    {
     "data": {
      "text/plain": [
       "'1.5.0'"
      ]
     },
     "execution_count": 13,
     "metadata": {},
     "output_type": "execute_result"
    }
   ],
   "source": [
    "tf.__version__"
   ]
  },
  {
   "cell_type": "code",
   "execution_count": null,
   "metadata": {
    "collapsed": true
   },
   "outputs": [],
   "source": []
  }
 ],
 "metadata": {
  "kernelspec": {
   "display_name": "Python 3",
   "language": "python",
   "name": "python3"
  },
  "language_info": {
   "codemirror_mode": {
    "name": "ipython",
    "version": 3
   },
   "file_extension": ".py",
   "mimetype": "text/x-python",
   "name": "python",
   "nbconvert_exporter": "python",
   "pygments_lexer": "ipython3",
   "version": "3.6.3"
  }
 },
 "nbformat": 4,
 "nbformat_minor": 2
}
