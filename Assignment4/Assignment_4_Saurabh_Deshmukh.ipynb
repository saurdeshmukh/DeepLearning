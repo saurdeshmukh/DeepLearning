{
 "cells": [
  {
   "cell_type": "code",
   "execution_count": 1,
   "metadata": {
    "collapsed": true
   },
   "outputs": [],
   "source": [
    "import pandas as pd\n",
    "import numpy as np\n",
    "import math\n",
    "import matplotlib.pyplot as plt\n",
    "import tensorflow as tf\n",
    "np.random.seed(1)\n",
    "dataTrain=pd.read_csv('ex4_train.csv')\n",
    "dataTest=pd.read_csv('ex4_test.csv')"
   ]
  },
  {
   "cell_type": "code",
   "execution_count": 2,
   "metadata": {
    "collapsed": true
   },
   "outputs": [],
   "source": [
    "Input_train=np.array(dataTrain)\n",
    "Xtrain=Input_train[:,1:401]\n",
    "Htrain=np.array(dataTrain['y'])"
   ]
  },
  {
   "cell_type": "code",
   "execution_count": 3,
   "metadata": {
    "collapsed": true
   },
   "outputs": [],
   "source": [
    "def one_hot_Encoding(Y,classes):\n",
    "    Yout=np.zeros((Y.shape[0],len(classes)))\n",
    "    for i in range(0,len(Y)-1):\n",
    "        indx=classes.index(Y[i])\n",
    "        Yout[i,indx]=1\n",
    "    return Yout"
   ]
  },
  {
   "cell_type": "code",
   "execution_count": 4,
   "metadata": {
    "collapsed": true
   },
   "outputs": [],
   "source": [
    "def create_placeholders(inputSize,outputSize):\n",
    "    X = tf.placeholder(\"float\", [None, inputSize])\n",
    "    Y = tf.placeholder(\"float\", [None, outputSize])\n",
    "    return X,Y"
   ]
  },
  {
   "cell_type": "code",
   "execution_count": 5,
   "metadata": {
    "collapsed": true
   },
   "outputs": [],
   "source": [
    "def initialize_parameters(inputSize,layer1,layer2,outputSize):\n",
    "    weights = {\n",
    "        'w1': tf.get_variable(\"WW1\", shape=[inputSize, layer1],initializer=tf.contrib.layers.xavier_initializer()),\n",
    "        'w2': tf.get_variable(\"WW2\", shape=[layer1, layer2],initializer=tf.contrib.layers.xavier_initializer()),\n",
    "        'out': tf.get_variable(\"Wout\", shape=[layer2, outputSize],initializer=tf.contrib.layers.xavier_initializer())\n",
    "    }\n",
    "    biases = {\n",
    "        'b1': tf.get_variable(\"Bb1\", shape=[layer1],initializer=tf.contrib.layers.xavier_initializer()),\n",
    "        'b2': tf.get_variable(\"Bb2\", shape=[layer2],initializer=tf.contrib.layers.xavier_initializer()),\n",
    "        'out': tf.get_variable(\"Bout\", shape=[outputSize],initializer=tf.contrib.layers.xavier_initializer())\n",
    "    }\n",
    "    return weights,biases"
   ]
  },
  {
   "cell_type": "code",
   "execution_count": 6,
   "metadata": {
    "collapsed": true
   },
   "outputs": [],
   "source": [
    "def forwardPropogation_dropout(x,prob,weights,biases):\n",
    "    layer_1 = tf.nn.relu(tf.add(tf.matmul(tf.cast(x,tf.float32), weights['w1']), biases['b1']))\n",
    "    layer_2 = tf.nn.dropout(tf.nn.relu(tf.add(tf.matmul(layer_1, weights['w2']), biases['b2'])),prob)\n",
    "    out_layer = tf.nn.sigmoid(tf.matmul(layer_2, weights['out']) + biases['out'])\n",
    "    return out_layer"
   ]
  },
  {
   "cell_type": "code",
   "execution_count": 7,
   "metadata": {
    "collapsed": true
   },
   "outputs": [],
   "source": [
    "def computeCost(X,Y):\n",
    "    return tf.reduce_mean(tf.nn.softmax_cross_entropy_with_logits(logits=X, labels=Y))"
   ]
  },
  {
   "cell_type": "code",
   "execution_count": 8,
   "metadata": {},
   "outputs": [],
   "source": [
    "learning_rate = 0.001\n",
    "display_step = 500\n",
    "classes=[0,1,2,3,4,5,6,7,8,9]\n",
    "layer1 = 250 \n",
    "layer2 = 100 \n",
    "inputSize = 400 \n",
    "outputSize = 10 \n",
    "Ytrain=one_hot_Encoding(Htrain,classes)\n",
    "X,Y=create_placeholders(inputSize,outputSize)\n",
    "weights,biases=initialize_parameters(inputSize,layer1,layer2,outputSize)"
   ]
  },
  {
   "cell_type": "code",
   "execution_count": 9,
   "metadata": {
    "collapsed": true
   },
   "outputs": [],
   "source": [
    "Input_test=np.array(dataTest)\n",
    "Xtest=Input_test[:,1:401]\n",
    "Htest=np.array(dataTest['y'])\n",
    "Ytest=one_hot_Encoding(Htest,classes)"
   ]
  },
  {
   "cell_type": "code",
   "execution_count": 10,
   "metadata": {
    "collapsed": true
   },
   "outputs": [],
   "source": [
    "TrainAccuracy=[]\n",
    "TestAccuracy=[]"
   ]
  },
  {
   "cell_type": "code",
   "execution_count": 11,
   "metadata": {},
   "outputs": [
    {
     "name": "stdout",
     "output_type": "stream",
     "text": [
      "Epoch: 0001 cost=2.323278666\n",
      "Epoch: 0501 cost=1.506493449\n",
      "   \n",
      "DropOut Prob = 0.2\n",
      "Training Accuracy: 0.976286\n",
      "Testing Accuracy: 0.923333\n"
     ]
    }
   ],
   "source": [
    "logits = forwardPropogation_dropout(X,0.2,weights,biases)\n",
    "\n",
    "probDropOut=[]\n",
    "loss_op = computeCost(logits,Ytrain)\n",
    "optimizer = tf.train.AdamOptimizer(learning_rate=learning_rate)\n",
    "train_op = optimizer.minimize(loss_op)\n",
    "\n",
    "init = tf.global_variables_initializer()\n",
    "\n",
    "with tf.Session() as sess:\n",
    "    sess.run(init)\n",
    "\n",
    "    for epoch in range(1000):\n",
    "        avg_cost = 0.\n",
    "        _, c = sess.run([train_op, loss_op], feed_dict={X: Xtrain,Y: Ytrain})\n",
    "\n",
    "        avg_cost += c \n",
    "        if epoch % display_step == 0:\n",
    "            print(\"Epoch:\", '%04d' % (epoch+1), \"cost={:.9f}\".format(avg_cost))\n",
    "\n",
    "    pred = tf.nn.softmax(logits)\n",
    "    correct_prediction = tf.equal(tf.argmax(pred, 1), tf.argmax(Y, 1))\n",
    "    accuracy = tf.reduce_mean(tf.cast(correct_prediction, \"float\"))\n",
    "    TrainAcc=accuracy.eval({X: Xtrain, Y: Ytrain})\n",
    "    TrainAccuracy.append(TrainAcc)\n",
    "    TestAcc=accuracy.eval({X: Xtest, Y: Ytest})\n",
    "    TestAccuracy.append(TestAcc)\n",
    "    print(\"   \")\n",
    "    print(\"DropOut Prob = 0.2\")\n",
    "    print(\"Training Accuracy:\", TrainAcc)\n",
    "    print(\"Testing Accuracy:\", TestAcc)"
   ]
  },
  {
   "cell_type": "code",
   "execution_count": 12,
   "metadata": {},
   "outputs": [
    {
     "name": "stdout",
     "output_type": "stream",
     "text": [
      "Epoch: 0001 cost=2.301612854\n",
      "Epoch: 0501 cost=1.471931458\n",
      "   \n",
      "DropOut Prob = 0.6\n",
      "Training Accuracy: 0.994857\n",
      "Testing Accuracy: 0.938667\n"
     ]
    }
   ],
   "source": [
    "logits = forwardPropogation_dropout(X,0.6,weights,biases)\n",
    "loss_op = computeCost(logits,Ytrain)\n",
    "optimizer = tf.train.AdamOptimizer(learning_rate=learning_rate)\n",
    "train_op = optimizer.minimize(loss_op)\n",
    "\n",
    "init = tf.global_variables_initializer()\n",
    "\n",
    "with tf.Session() as sess:\n",
    "    sess.run(init)\n",
    "\n",
    "    for epoch in range(1000):\n",
    "        avg_cost = 0.\n",
    "        _, c = sess.run([train_op, loss_op], feed_dict={X: Xtrain,Y: Ytrain})\n",
    "\n",
    "        avg_cost += c \n",
    "        if epoch % display_step == 0:\n",
    "            print(\"Epoch:\", '%04d' % (epoch+1), \"cost={:.9f}\".format(avg_cost))\n",
    "\n",
    "    pred = tf.nn.softmax(logits)\n",
    "    correct_prediction = tf.equal(tf.argmax(pred, 1), tf.argmax(Y, 1))\n",
    "    accuracy = tf.reduce_mean(tf.cast(correct_prediction, \"float\"))\n",
    "    TrainAcc=accuracy.eval({X: Xtrain, Y: Ytrain})\n",
    "    TrainAccuracy.append(TrainAcc)\n",
    "    TestAcc=accuracy.eval({X: Xtest, Y: Ytest})\n",
    "    TestAccuracy.append(TestAcc)\n",
    "    print(\"   \")\n",
    "    print(\"DropOut Prob = 0.6\")\n",
    "    print(\"Training Accuracy:\", TrainAcc)\n",
    "    print(\"Testing Accuracy:\", TestAcc)"
   ]
  },
  {
   "cell_type": "code",
   "execution_count": 13,
   "metadata": {},
   "outputs": [
    {
     "name": "stdout",
     "output_type": "stream",
     "text": [
      "Epoch: 0001 cost=2.308643341\n",
      "Epoch: 0501 cost=1.472086549\n",
      "   \n",
      "DropOut Prob = 0.95\n",
      "Training Accuracy: 0.989143\n",
      "Testing Accuracy: 0.940667\n"
     ]
    }
   ],
   "source": [
    "logits = forwardPropogation_dropout(X,0.95,weights,biases)\n",
    "loss_op = computeCost(logits,Ytrain)\n",
    "optimizer = tf.train.AdamOptimizer(learning_rate=learning_rate)\n",
    "train_op = optimizer.minimize(loss_op)\n",
    "\n",
    "init = tf.global_variables_initializer()\n",
    "\n",
    "with tf.Session() as sess:\n",
    "    sess.run(init)\n",
    "\n",
    "    for epoch in range(1000):\n",
    "        avg_cost = 0.\n",
    "        _, c = sess.run([train_op, loss_op], feed_dict={X: Xtrain,Y: Ytrain})\n",
    "\n",
    "        avg_cost += c \n",
    "        if epoch % display_step == 0:\n",
    "            print(\"Epoch:\", '%04d' % (epoch+1), \"cost={:.9f}\".format(avg_cost))\n",
    "\n",
    "    pred = tf.nn.softmax(logits)\n",
    "    correct_prediction = tf.equal(tf.argmax(pred, 1), tf.argmax(Y, 1))\n",
    "    accuracy = tf.reduce_mean(tf.cast(correct_prediction, \"float\"))\n",
    "    TrainAcc=accuracy.eval({X: Xtrain, Y: Ytrain})\n",
    "    TrainAccuracy.append(TrainAcc)\n",
    "    TestAcc=accuracy.eval({X: Xtest, Y: Ytest})\n",
    "    TestAccuracy.append(TestAcc)\n",
    "    print(\"   \")\n",
    "    print(\"DropOut Prob = 0.95\")\n",
    "    print(\"Training Accuracy:\", TrainAcc)\n",
    "    print(\"Testing Accuracy:\", TestAcc)"
   ]
  },
  {
   "cell_type": "code",
   "execution_count": 14,
   "metadata": {
    "collapsed": true
   },
   "outputs": [],
   "source": [
    "prob=[0.2,0.6,0.95]"
   ]
  },
  {
   "cell_type": "code",
   "execution_count": 15,
   "metadata": {},
   "outputs": [
    {
     "data": {
      "image/png": "[encoded data removed]",
      "text/plain": [
       "<matplotlib.figure.Figure at 0x1a1503d5f8>"
      ]
     },
     "metadata": {},
     "output_type": "display_data"
    }
   ],
   "source": [
    "plt.plot(prob, TestAccuracy,'r',label=\"Test\") \n",
    "plt.plot(prob, TrainAccuracy,'b',label=\"Train\") \n",
    "plt.xlabel(\"Keep Prob\")\n",
    "plt.ylabel(\"Accuracy\")\n",
    "plt.legend()\n",
    "plt.show()"
   ]
  },
  {
   "cell_type": "code",
   "execution_count": null,
   "metadata": {
    "collapsed": true
   },
   "outputs": [],
   "source": []
  }
 ],
 "metadata": {
  "kernelspec": {
   "display_name": "Python 3",
   "language": "python",
   "name": "python3"
  },
  "language_info": {
   "codemirror_mode": {
    "name": "ipython",
    "version": 3
   },
   "file_extension": ".py",
   "mimetype": "text/x-python",
   "name": "python",
   "nbconvert_exporter": "python",
   "pygments_lexer": "ipython3",
   "version": "3.6.3"
  }
 },
 "nbformat": 4,
 "nbformat_minor": 2
}
